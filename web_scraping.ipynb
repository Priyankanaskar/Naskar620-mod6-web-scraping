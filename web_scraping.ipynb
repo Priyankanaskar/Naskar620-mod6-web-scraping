{
 "cells": [
  {
   "cell_type": "markdown",
   "metadata": {},
   "source": [
    "# Fetching Content from the Web\n",
    "\n",
    "\n",
    "Sometimes we need to try to access data on a webpage that does not have a helpful API that bundles and returns our data in a usable manner.  When that happens, we are left with no choice but to resort to web scraping, that is downloading the actual webpage (or parts of the webpage) and manipulating the text or elements of the HTML to obtain the information we want.\n",
    "\n",
    "## Tools to install:\n",
    "\n",
    "Use either `conda` or `pip` to install the following packages (e.g. `pip install beautifulsoup4`) depending on your environment:\n",
    "\n",
    "* `beautifulsoup4`\n",
    "* `html5lib` (optional parser - can use the built-in 'html.parser' instead)\n",
    "\n",
    "We will deal with each of these tools in turn.  BS4 is a package that allows you to fully read and do horrible horrible things to the DOM of a webpage (it's an XML parser that builds a parse tree for you to play with).  Boilerpipe is a python wrapper to a popular java library that can streamline some of the process of extracting parts of a webpage.  Feedparser lets you get RSS and Atom feeds (remember those?)\n",
    "\n",
    "Many examples are motivated from the content at https://github.com/mikhailklassen/Mining-the-Social-Web-3rd-Edition/blob/master/notebooks/Chapter%206%20-%20Mining%20Web%20Pages.ipynb\n",
    "\n",
    "## Getting page text with `requests` and `BeautifulSoup4`\n",
    "\n",
    "A majority of the web does not follow a specific standard (RSS/ATOM Feeds, etc), or the data we want is in a particularly odd format.  For this we need more flexible tools to allow us to obtain a full web page and extract meaning from it.  For this we will use the `requests` module and `beautifulsoup` to pull our information."
   ]
  },
  {
   "cell_type": "markdown",
   "metadata": {},
   "source": [
    "## 1. Import SpaCy"
   ]
  },
  {
   "cell_type": "code",
   "execution_count": 6,
   "metadata": {},
   "outputs": [
    {
     "name": "stdout",
     "output_type": "stream",
     "text": [
      "Requirement already satisfied: spacy in c:\\users\\priya\\naskar620-mod6-web-scraping\\myenv\\lib\\site-packages (3.8.2)\n",
      "Requirement already satisfied: spacy-legacy<3.1.0,>=3.0.11 in c:\\users\\priya\\naskar620-mod6-web-scraping\\myenv\\lib\\site-packages (from spacy) (3.0.12)\n",
      "Requirement already satisfied: spacy-loggers<2.0.0,>=1.0.0 in c:\\users\\priya\\naskar620-mod6-web-scraping\\myenv\\lib\\site-packages (from spacy) (1.0.5)\n",
      "Requirement already satisfied: murmurhash<1.1.0,>=0.28.0 in c:\\users\\priya\\naskar620-mod6-web-scraping\\myenv\\lib\\site-packages (from spacy) (1.0.11)\n",
      "Requirement already satisfied: cymem<2.1.0,>=2.0.2 in c:\\users\\priya\\naskar620-mod6-web-scraping\\myenv\\lib\\site-packages (from spacy) (2.0.10)\n",
      "Requirement already satisfied: preshed<3.1.0,>=3.0.2 in c:\\users\\priya\\naskar620-mod6-web-scraping\\myenv\\lib\\site-packages (from spacy) (3.0.9)\n",
      "Requirement already satisfied: thinc<8.4.0,>=8.3.0 in c:\\users\\priya\\naskar620-mod6-web-scraping\\myenv\\lib\\site-packages (from spacy) (8.3.2)\n",
      "Requirement already satisfied: wasabi<1.2.0,>=0.9.1 in c:\\users\\priya\\naskar620-mod6-web-scraping\\myenv\\lib\\site-packages (from spacy) (1.1.3)\n",
      "Requirement already satisfied: srsly<3.0.0,>=2.4.3 in c:\\users\\priya\\naskar620-mod6-web-scraping\\myenv\\lib\\site-packages (from spacy) (2.4.8)\n",
      "Requirement already satisfied: catalogue<2.1.0,>=2.0.6 in c:\\users\\priya\\naskar620-mod6-web-scraping\\myenv\\lib\\site-packages (from spacy) (2.0.10)\n",
      "Requirement already satisfied: weasel<0.5.0,>=0.1.0 in c:\\users\\priya\\naskar620-mod6-web-scraping\\myenv\\lib\\site-packages (from spacy) (0.4.1)\n",
      "Requirement already satisfied: typer<1.0.0,>=0.3.0 in c:\\users\\priya\\naskar620-mod6-web-scraping\\myenv\\lib\\site-packages (from spacy) (0.14.0)\n",
      "Requirement already satisfied: tqdm<5.0.0,>=4.38.0 in c:\\users\\priya\\naskar620-mod6-web-scraping\\myenv\\lib\\site-packages (from spacy) (4.67.1)\n",
      "Requirement already satisfied: requests<3.0.0,>=2.13.0 in c:\\users\\priya\\naskar620-mod6-web-scraping\\myenv\\lib\\site-packages (from spacy) (2.32.3)\n",
      "Requirement already satisfied: pydantic!=1.8,!=1.8.1,<3.0.0,>=1.7.4 in c:\\users\\priya\\naskar620-mod6-web-scraping\\myenv\\lib\\site-packages (from spacy) (2.10.2)\n",
      "Requirement already satisfied: jinja2 in c:\\users\\priya\\naskar620-mod6-web-scraping\\myenv\\lib\\site-packages (from spacy) (3.1.4)\n",
      "Requirement already satisfied: setuptools in c:\\users\\priya\\naskar620-mod6-web-scraping\\myenv\\lib\\site-packages (from spacy) (75.6.0)\n",
      "Requirement already satisfied: packaging>=20.0 in c:\\users\\priya\\naskar620-mod6-web-scraping\\myenv\\lib\\site-packages (from spacy) (24.2)\n",
      "Requirement already satisfied: langcodes<4.0.0,>=3.2.0 in c:\\users\\priya\\naskar620-mod6-web-scraping\\myenv\\lib\\site-packages (from spacy) (3.5.0)\n",
      "Requirement already satisfied: numpy>=1.19.0 in c:\\users\\priya\\naskar620-mod6-web-scraping\\myenv\\lib\\site-packages (from spacy) (2.0.2)\n",
      "Requirement already satisfied: language-data>=1.2 in c:\\users\\priya\\naskar620-mod6-web-scraping\\myenv\\lib\\site-packages (from langcodes<4.0.0,>=3.2.0->spacy) (1.3.0)\n",
      "Requirement already satisfied: annotated-types>=0.6.0 in c:\\users\\priya\\naskar620-mod6-web-scraping\\myenv\\lib\\site-packages (from pydantic!=1.8,!=1.8.1,<3.0.0,>=1.7.4->spacy) (0.7.0)\n",
      "Requirement already satisfied: pydantic-core==2.27.1 in c:\\users\\priya\\naskar620-mod6-web-scraping\\myenv\\lib\\site-packages (from pydantic!=1.8,!=1.8.1,<3.0.0,>=1.7.4->spacy) (2.27.1)\n",
      "Requirement already satisfied: typing-extensions>=4.12.2 in c:\\users\\priya\\naskar620-mod6-web-scraping\\myenv\\lib\\site-packages (from pydantic!=1.8,!=1.8.1,<3.0.0,>=1.7.4->spacy) (4.12.2)\n",
      "Requirement already satisfied: charset-normalizer<4,>=2 in c:\\users\\priya\\naskar620-mod6-web-scraping\\myenv\\lib\\site-packages (from requests<3.0.0,>=2.13.0->spacy) (3.4.0)\n",
      "Requirement already satisfied: idna<4,>=2.5 in c:\\users\\priya\\naskar620-mod6-web-scraping\\myenv\\lib\\site-packages (from requests<3.0.0,>=2.13.0->spacy) (3.10)\n",
      "Requirement already satisfied: urllib3<3,>=1.21.1 in c:\\users\\priya\\naskar620-mod6-web-scraping\\myenv\\lib\\site-packages (from requests<3.0.0,>=2.13.0->spacy) (2.2.3)\n",
      "Requirement already satisfied: certifi>=2017.4.17 in c:\\users\\priya\\naskar620-mod6-web-scraping\\myenv\\lib\\site-packages (from requests<3.0.0,>=2.13.0->spacy) (2024.8.30)\n",
      "Requirement already satisfied: blis<1.1.0,>=1.0.0 in c:\\users\\priya\\naskar620-mod6-web-scraping\\myenv\\lib\\site-packages (from thinc<8.4.0,>=8.3.0->spacy) (1.0.1)\n",
      "Requirement already satisfied: confection<1.0.0,>=0.0.1 in c:\\users\\priya\\naskar620-mod6-web-scraping\\myenv\\lib\\site-packages (from thinc<8.4.0,>=8.3.0->spacy) (0.1.5)\n",
      "Requirement already satisfied: colorama in c:\\users\\priya\\naskar620-mod6-web-scraping\\myenv\\lib\\site-packages (from tqdm<5.0.0,>=4.38.0->spacy) (0.4.6)\n",
      "Requirement already satisfied: click>=8.0.0 in c:\\users\\priya\\naskar620-mod6-web-scraping\\myenv\\lib\\site-packages (from typer<1.0.0,>=0.3.0->spacy) (8.1.7)\n",
      "Requirement already satisfied: shellingham>=1.3.0 in c:\\users\\priya\\naskar620-mod6-web-scraping\\myenv\\lib\\site-packages (from typer<1.0.0,>=0.3.0->spacy) (1.5.4)\n",
      "Requirement already satisfied: rich>=10.11.0 in c:\\users\\priya\\naskar620-mod6-web-scraping\\myenv\\lib\\site-packages (from typer<1.0.0,>=0.3.0->spacy) (13.9.4)\n",
      "Requirement already satisfied: cloudpathlib<1.0.0,>=0.7.0 in c:\\users\\priya\\naskar620-mod6-web-scraping\\myenv\\lib\\site-packages (from weasel<0.5.0,>=0.1.0->spacy) (0.20.0)\n",
      "Requirement already satisfied: smart-open<8.0.0,>=5.2.1 in c:\\users\\priya\\naskar620-mod6-web-scraping\\myenv\\lib\\site-packages (from weasel<0.5.0,>=0.1.0->spacy) (7.0.5)\n",
      "Requirement already satisfied: MarkupSafe>=2.0 in c:\\users\\priya\\naskar620-mod6-web-scraping\\myenv\\lib\\site-packages (from jinja2->spacy) (3.0.2)\n",
      "Requirement already satisfied: marisa-trie>=1.1.0 in c:\\users\\priya\\naskar620-mod6-web-scraping\\myenv\\lib\\site-packages (from language-data>=1.2->langcodes<4.0.0,>=3.2.0->spacy) (1.2.1)\n",
      "Requirement already satisfied: markdown-it-py>=2.2.0 in c:\\users\\priya\\naskar620-mod6-web-scraping\\myenv\\lib\\site-packages (from rich>=10.11.0->typer<1.0.0,>=0.3.0->spacy) (3.0.0)\n",
      "Requirement already satisfied: pygments<3.0.0,>=2.13.0 in c:\\users\\priya\\naskar620-mod6-web-scraping\\myenv\\lib\\site-packages (from rich>=10.11.0->typer<1.0.0,>=0.3.0->spacy) (2.18.0)\n",
      "Requirement already satisfied: wrapt in c:\\users\\priya\\naskar620-mod6-web-scraping\\myenv\\lib\\site-packages (from smart-open<8.0.0,>=5.2.1->weasel<0.5.0,>=0.1.0->spacy) (1.17.0)\n",
      "Requirement already satisfied: mdurl~=0.1 in c:\\users\\priya\\naskar620-mod6-web-scraping\\myenv\\lib\\site-packages (from markdown-it-py>=2.2.0->rich>=10.11.0->typer<1.0.0,>=0.3.0->spacy) (0.1.2)\n",
      "Note: you may need to restart the kernel to use updated packages.\n",
      "Requirement already satisfied: spacytextblob in c:\\users\\priya\\naskar620-mod6-web-scraping\\myenv\\lib\\site-packages (5.0.0)\n",
      "Requirement already satisfied: spacy>=3.0.0 in c:\\users\\priya\\naskar620-mod6-web-scraping\\myenv\\lib\\site-packages (from spacytextblob) (3.8.2)\n",
      "Requirement already satisfied: textblob>=0.18.0.post0 in c:\\users\\priya\\naskar620-mod6-web-scraping\\myenv\\lib\\site-packages (from spacytextblob) (0.18.0.post0)\n",
      "Requirement already satisfied: spacy-legacy<3.1.0,>=3.0.11 in c:\\users\\priya\\naskar620-mod6-web-scraping\\myenv\\lib\\site-packages (from spacy>=3.0.0->spacytextblob) (3.0.12)\n",
      "Requirement already satisfied: spacy-loggers<2.0.0,>=1.0.0 in c:\\users\\priya\\naskar620-mod6-web-scraping\\myenv\\lib\\site-packages (from spacy>=3.0.0->spacytextblob) (1.0.5)\n",
      "Requirement already satisfied: murmurhash<1.1.0,>=0.28.0 in c:\\users\\priya\\naskar620-mod6-web-scraping\\myenv\\lib\\site-packages (from spacy>=3.0.0->spacytextblob) (1.0.11)\n",
      "Requirement already satisfied: cymem<2.1.0,>=2.0.2 in c:\\users\\priya\\naskar620-mod6-web-scraping\\myenv\\lib\\site-packages (from spacy>=3.0.0->spacytextblob) (2.0.10)\n",
      "Requirement already satisfied: preshed<3.1.0,>=3.0.2 in c:\\users\\priya\\naskar620-mod6-web-scraping\\myenv\\lib\\site-packages (from spacy>=3.0.0->spacytextblob) (3.0.9)\n",
      "Requirement already satisfied: thinc<8.4.0,>=8.3.0 in c:\\users\\priya\\naskar620-mod6-web-scraping\\myenv\\lib\\site-packages (from spacy>=3.0.0->spacytextblob) (8.3.2)\n",
      "Requirement already satisfied: wasabi<1.2.0,>=0.9.1 in c:\\users\\priya\\naskar620-mod6-web-scraping\\myenv\\lib\\site-packages (from spacy>=3.0.0->spacytextblob) (1.1.3)\n",
      "Requirement already satisfied: srsly<3.0.0,>=2.4.3 in c:\\users\\priya\\naskar620-mod6-web-scraping\\myenv\\lib\\site-packages (from spacy>=3.0.0->spacytextblob) (2.4.8)\n",
      "Requirement already satisfied: catalogue<2.1.0,>=2.0.6 in c:\\users\\priya\\naskar620-mod6-web-scraping\\myenv\\lib\\site-packages (from spacy>=3.0.0->spacytextblob) (2.0.10)\n",
      "Requirement already satisfied: weasel<0.5.0,>=0.1.0 in c:\\users\\priya\\naskar620-mod6-web-scraping\\myenv\\lib\\site-packages (from spacy>=3.0.0->spacytextblob) (0.4.1)\n",
      "Requirement already satisfied: typer<1.0.0,>=0.3.0 in c:\\users\\priya\\naskar620-mod6-web-scraping\\myenv\\lib\\site-packages (from spacy>=3.0.0->spacytextblob) (0.14.0)\n",
      "Requirement already satisfied: tqdm<5.0.0,>=4.38.0 in c:\\users\\priya\\naskar620-mod6-web-scraping\\myenv\\lib\\site-packages (from spacy>=3.0.0->spacytextblob) (4.67.1)\n",
      "Requirement already satisfied: requests<3.0.0,>=2.13.0 in c:\\users\\priya\\naskar620-mod6-web-scraping\\myenv\\lib\\site-packages (from spacy>=3.0.0->spacytextblob) (2.32.3)\n",
      "Requirement already satisfied: pydantic!=1.8,!=1.8.1,<3.0.0,>=1.7.4 in c:\\users\\priya\\naskar620-mod6-web-scraping\\myenv\\lib\\site-packages (from spacy>=3.0.0->spacytextblob) (2.10.2)\n",
      "Requirement already satisfied: jinja2 in c:\\users\\priya\\naskar620-mod6-web-scraping\\myenv\\lib\\site-packages (from spacy>=3.0.0->spacytextblob) (3.1.4)\n",
      "Requirement already satisfied: setuptools in c:\\users\\priya\\naskar620-mod6-web-scraping\\myenv\\lib\\site-packages (from spacy>=3.0.0->spacytextblob) (75.6.0)\n",
      "Requirement already satisfied: packaging>=20.0 in c:\\users\\priya\\naskar620-mod6-web-scraping\\myenv\\lib\\site-packages (from spacy>=3.0.0->spacytextblob) (24.2)\n",
      "Requirement already satisfied: langcodes<4.0.0,>=3.2.0 in c:\\users\\priya\\naskar620-mod6-web-scraping\\myenv\\lib\\site-packages (from spacy>=3.0.0->spacytextblob) (3.5.0)\n",
      "Requirement already satisfied: numpy>=1.19.0 in c:\\users\\priya\\naskar620-mod6-web-scraping\\myenv\\lib\\site-packages (from spacy>=3.0.0->spacytextblob) (2.0.2)\n",
      "Requirement already satisfied: nltk>=3.8 in c:\\users\\priya\\naskar620-mod6-web-scraping\\myenv\\lib\\site-packages (from textblob>=0.18.0.post0->spacytextblob) (3.9.1)\n",
      "Requirement already satisfied: language-data>=1.2 in c:\\users\\priya\\naskar620-mod6-web-scraping\\myenv\\lib\\site-packages (from langcodes<4.0.0,>=3.2.0->spacy>=3.0.0->spacytextblob) (1.3.0)\n",
      "Requirement already satisfied: click in c:\\users\\priya\\naskar620-mod6-web-scraping\\myenv\\lib\\site-packages (from nltk>=3.8->textblob>=0.18.0.post0->spacytextblob) (8.1.7)\n",
      "Requirement already satisfied: joblib in c:\\users\\priya\\naskar620-mod6-web-scraping\\myenv\\lib\\site-packages (from nltk>=3.8->textblob>=0.18.0.post0->spacytextblob) (1.4.2)\n",
      "Requirement already satisfied: regex>=2021.8.3 in c:\\users\\priya\\naskar620-mod6-web-scraping\\myenv\\lib\\site-packages (from nltk>=3.8->textblob>=0.18.0.post0->spacytextblob) (2024.11.6)\n",
      "Requirement already satisfied: annotated-types>=0.6.0 in c:\\users\\priya\\naskar620-mod6-web-scraping\\myenv\\lib\\site-packages (from pydantic!=1.8,!=1.8.1,<3.0.0,>=1.7.4->spacy>=3.0.0->spacytextblob) (0.7.0)\n",
      "Requirement already satisfied: pydantic-core==2.27.1 in c:\\users\\priya\\naskar620-mod6-web-scraping\\myenv\\lib\\site-packages (from pydantic!=1.8,!=1.8.1,<3.0.0,>=1.7.4->spacy>=3.0.0->spacytextblob) (2.27.1)\n",
      "Requirement already satisfied: typing-extensions>=4.12.2 in c:\\users\\priya\\naskar620-mod6-web-scraping\\myenv\\lib\\site-packages (from pydantic!=1.8,!=1.8.1,<3.0.0,>=1.7.4->spacy>=3.0.0->spacytextblob) (4.12.2)\n",
      "Requirement already satisfied: charset-normalizer<4,>=2 in c:\\users\\priya\\naskar620-mod6-web-scraping\\myenv\\lib\\site-packages (from requests<3.0.0,>=2.13.0->spacy>=3.0.0->spacytextblob) (3.4.0)\n",
      "Requirement already satisfied: idna<4,>=2.5 in c:\\users\\priya\\naskar620-mod6-web-scraping\\myenv\\lib\\site-packages (from requests<3.0.0,>=2.13.0->spacy>=3.0.0->spacytextblob) (3.10)\n",
      "Requirement already satisfied: urllib3<3,>=1.21.1 in c:\\users\\priya\\naskar620-mod6-web-scraping\\myenv\\lib\\site-packages (from requests<3.0.0,>=2.13.0->spacy>=3.0.0->spacytextblob) (2.2.3)\n",
      "Requirement already satisfied: certifi>=2017.4.17 in c:\\users\\priya\\naskar620-mod6-web-scraping\\myenv\\lib\\site-packages (from requests<3.0.0,>=2.13.0->spacy>=3.0.0->spacytextblob) (2024.8.30)\n",
      "Requirement already satisfied: blis<1.1.0,>=1.0.0 in c:\\users\\priya\\naskar620-mod6-web-scraping\\myenv\\lib\\site-packages (from thinc<8.4.0,>=8.3.0->spacy>=3.0.0->spacytextblob) (1.0.1)\n",
      "Requirement already satisfied: confection<1.0.0,>=0.0.1 in c:\\users\\priya\\naskar620-mod6-web-scraping\\myenv\\lib\\site-packages (from thinc<8.4.0,>=8.3.0->spacy>=3.0.0->spacytextblob) (0.1.5)\n",
      "Requirement already satisfied: colorama in c:\\users\\priya\\naskar620-mod6-web-scraping\\myenv\\lib\\site-packages (from tqdm<5.0.0,>=4.38.0->spacy>=3.0.0->spacytextblob) (0.4.6)\n",
      "Requirement already satisfied: shellingham>=1.3.0 in c:\\users\\priya\\naskar620-mod6-web-scraping\\myenv\\lib\\site-packages (from typer<1.0.0,>=0.3.0->spacy>=3.0.0->spacytextblob) (1.5.4)\n",
      "Requirement already satisfied: rich>=10.11.0 in c:\\users\\priya\\naskar620-mod6-web-scraping\\myenv\\lib\\site-packages (from typer<1.0.0,>=0.3.0->spacy>=3.0.0->spacytextblob) (13.9.4)\n",
      "Requirement already satisfied: cloudpathlib<1.0.0,>=0.7.0 in c:\\users\\priya\\naskar620-mod6-web-scraping\\myenv\\lib\\site-packages (from weasel<0.5.0,>=0.1.0->spacy>=3.0.0->spacytextblob) (0.20.0)\n",
      "Requirement already satisfied: smart-open<8.0.0,>=5.2.1 in c:\\users\\priya\\naskar620-mod6-web-scraping\\myenv\\lib\\site-packages (from weasel<0.5.0,>=0.1.0->spacy>=3.0.0->spacytextblob) (7.0.5)\n",
      "Requirement already satisfied: MarkupSafe>=2.0 in c:\\users\\priya\\naskar620-mod6-web-scraping\\myenv\\lib\\site-packages (from jinja2->spacy>=3.0.0->spacytextblob) (3.0.2)\n",
      "Requirement already satisfied: marisa-trie>=1.1.0 in c:\\users\\priya\\naskar620-mod6-web-scraping\\myenv\\lib\\site-packages (from language-data>=1.2->langcodes<4.0.0,>=3.2.0->spacy>=3.0.0->spacytextblob) (1.2.1)\n",
      "Requirement already satisfied: markdown-it-py>=2.2.0 in c:\\users\\priya\\naskar620-mod6-web-scraping\\myenv\\lib\\site-packages (from rich>=10.11.0->typer<1.0.0,>=0.3.0->spacy>=3.0.0->spacytextblob) (3.0.0)\n",
      "Requirement already satisfied: pygments<3.0.0,>=2.13.0 in c:\\users\\priya\\naskar620-mod6-web-scraping\\myenv\\lib\\site-packages (from rich>=10.11.0->typer<1.0.0,>=0.3.0->spacy>=3.0.0->spacytextblob) (2.18.0)\n",
      "Requirement already satisfied: wrapt in c:\\users\\priya\\naskar620-mod6-web-scraping\\myenv\\lib\\site-packages (from smart-open<8.0.0,>=5.2.1->weasel<0.5.0,>=0.1.0->spacy>=3.0.0->spacytextblob) (1.17.0)\n",
      "Requirement already satisfied: mdurl~=0.1 in c:\\users\\priya\\naskar620-mod6-web-scraping\\myenv\\lib\\site-packages (from markdown-it-py>=2.2.0->rich>=10.11.0->typer<1.0.0,>=0.3.0->spacy>=3.0.0->spacytextblob) (0.1.2)\n",
      "Note: you may need to restart the kernel to use updated packages.\n"
     ]
    }
   ],
   "source": [
    "# Only need to run these once in the Jupyter notebook (to ensure packages are installed in the notebook environment)\n",
    "%pip install spacy\n",
    "%pip install spacytextblob\n",
    "\n",
    "# Import the libraries for use\n",
    "import spacy\n",
    "from spacytextblob.spacytextblob import SpacyTextBlob"
   ]
  },
  {
   "cell_type": "markdown",
   "metadata": {},
   "source": [
    "Hooray... raw HTML.  This will clearly be a good day.  Let's... find a way to **not** deal with raw html encoded text:"
   ]
  },
  {
   "cell_type": "code",
   "execution_count": 7,
   "metadata": {},
   "outputs": [
    {
     "name": "stdout",
     "output_type": "stream",
     "text": [
      "Package            VersionAll prereqs installed.\n",
      "\n",
      "------------------ ------------\n",
      "annotated-types    0.7.0\n",
      "asttokens          2.4.1\n",
      "beautifulsoup4     4.12.3\n",
      "blis               1.0.1\n",
      "catalogue          2.0.10\n",
      "certifi            2024.8.30\n",
      "charset-normalizer 3.4.0\n",
      "click              8.1.7\n",
      "cloudpathlib       0.20.0\n",
      "colorama           0.4.6\n",
      "comm               0.2.2\n",
      "confection         0.1.5\n",
      "contourpy          1.3.1\n",
      "cycler             0.12.1\n",
      "cymem              2.0.10\n",
      "debugpy            1.8.9\n",
      "decorator          5.1.1\n",
      "en_core_web_sm     3.8.0\n",
      "executing          2.1.0\n",
      "fonttools          4.55.0\n",
      "idna               3.10\n",
      "ipykernel          6.29.5\n",
      "ipython            8.30.0\n",
      "jedi               0.19.2\n",
      "Jinja2             3.1.4\n",
      "joblib             1.4.2\n",
      "jupyter_client     8.6.3\n",
      "jupyter_core       5.7.2\n",
      "kiwisolver         1.4.7\n",
      "langcodes          3.5.0\n",
      "language_data      1.3.0\n",
      "marisa-trie        1.2.1\n",
      "markdown-it-py     3.0.0\n",
      "MarkupSafe         3.0.2\n",
      "matplotlib         3.9.2\n",
      "matplotlib-inline  0.1.7\n",
      "mdurl              0.1.2\n",
      "murmurhash         1.0.11\n",
      "nest-asyncio       1.6.0\n",
      "nltk               3.9.1\n",
      "numpy              2.0.2\n",
      "packaging          24.2\n",
      "parso              0.8.4\n",
      "pillow             11.0.0\n",
      "pip                24.3.1\n",
      "platformdirs       4.3.6\n",
      "preshed            3.0.9\n",
      "prompt_toolkit     3.0.48\n",
      "psutil             6.1.0\n",
      "pure_eval          0.2.3\n",
      "pydantic           2.10.2\n",
      "pydantic_core      2.27.1\n",
      "Pygments           2.18.0\n",
      "pyparsing          3.2.0\n",
      "python-dateutil    2.9.0.post0\n",
      "pywin32            308\n",
      "pyzmq              26.2.0\n",
      "regex              2024.11.6\n",
      "requests           2.32.3\n",
      "rich               13.9.4\n",
      "setuptools         75.6.0\n",
      "shellingham        1.5.4\n",
      "six                1.16.0\n",
      "smart-open         7.0.5\n",
      "soupsieve          2.6\n",
      "spacy              3.8.2\n",
      "spacy-legacy       3.0.12\n",
      "spacy-loggers      1.0.5\n",
      "spacytextblob      5.0.0\n",
      "srsly              2.4.8\n",
      "stack-data         0.6.3\n",
      "textblob           0.18.0.post0\n",
      "thinc              8.3.2\n",
      "tornado            6.4.2\n",
      "tqdm               4.67.1\n",
      "traitlets          5.14.3\n",
      "typer              0.14.0\n",
      "typing_extensions  4.12.2\n",
      "urllib3            2.2.3\n",
      "wasabi             1.1.3\n",
      "wcwidth            0.2.13\n",
      "weasel             0.4.1\n",
      "wrapt              1.17.0\n"
     ]
    }
   ],
   "source": [
    "# Create and activate a Python virtual environment. \n",
    "# Before starting the project, try all these imports FIRST\n",
    "# Address any errors you get running this code cell \n",
    "# by installing the necessary packages into your active Python environment.\n",
    "# Try to resolve issues using your materials and the web.\n",
    "# If that doesn't work, ask for help in the discussion forums.\n",
    "# You can't complete the exercises until you import these - start early! \n",
    "# We also import pickle and Counter (included in the Python Standard Library).\n",
    "\n",
    "from collections import Counter\n",
    "import pickle\n",
    "import requests\n",
    "import spacy\n",
    "from bs4 import BeautifulSoup\n",
    "import matplotlib.pyplot as plt\n",
    "\n",
    "!pip list\n",
    "\n",
    "print('All prereqs installed.')\n",
    "\n",
    "\n"
   ]
  },
  {
   "cell_type": "markdown",
   "metadata": {},
   "source": [
    "Question 1"
   ]
  },
  {
   "cell_type": "markdown",
   "metadata": {},
   "source": [
    "Write code that extracts the article html from https://web.archive.org/web/20210327165005/https://hackaday.com/2021/03/22/how-laser-headlights-work/ and dumps it to a .pkl (or other appropriate file)"
   ]
  },
  {
   "cell_type": "code",
   "execution_count": 11,
   "metadata": {},
   "outputs": [
    {
     "name": "stdout",
     "output_type": "stream",
     "text": [
      "Article HTML saved to laser_article_html.pkl\n"
     ]
    }
   ],
   "source": [
    "# Import Packages\n",
    "import requests\n",
    "import pickle\n",
    "from bs4 import BeautifulSoup\n",
    "\n",
    "# Designate URL as variable\n",
    "url = \"https://web.archive.org/web/20210327165005/https://hackaday.com/2021/03/22/how-laser-headlights-work/\"\n",
    "\n",
    "# Send GET request to fetch HTML\n",
    "response = requests.get(url)\n",
    "\n",
    "# Use if and else to test request results\n",
    "if response.status_code == 200:\n",
    "    article_html = response.text\n",
    "else:\n",
    "    raise Exception(f\"Failed to fetch the URL. Status code: {response.status_code}\")\n",
    "\n",
    "# .pkl Path\n",
    "file_path = \"laser_article_html.pkl\"\n",
    "\n",
    "# Save file as .pkl\n",
    "with open(file_path, \"wb\") as file:\n",
    "    pickle.dump(article_html, file)\n",
    "\n",
    "print(f\"Article HTML saved to {file_path}\")"
   ]
  },
  {
   "cell_type": "markdown",
   "metadata": {},
   "source": [
    "Question 2\n",
    "\n",
    "Read in your article's html source from the file you created in question 1 and print it's text (use .get_text())"
   ]
  },
  {
   "cell_type": "code",
   "execution_count": 12,
   "metadata": {},
   "outputs": [
    {
     "name": "stdout",
     "output_type": "stream",
     "text": [
      "\n",
      "\n",
      "How Laser Headlights Work\n",
      "\n",
      "\n",
      "                130 Comments            \n",
      "\n",
      "by:\n",
      "Lewin Day\n",
      "\n",
      "\n",
      "\n",
      "March 22, 2021\n",
      "\n",
      "\n",
      "\n",
      "\n",
      "\n",
      "\n",
      "\n",
      "\n",
      "When we think about the onward march of automotive technology, headlights aren’t usually the first thing that come to mind. Engines, fuel efficiency, and the switch to electric power are all more front of mind. However, that doesn’t mean there aren’t thousands of engineers around the world working to improve the state of the art in automotive lighting day in, day out.\n",
      "Sealed beam headlights gave way to more modern designs once regulations loosened up, while bulbs moved from simple halogens to xenon HIDs and, more recently, LEDs. Now, a new technology is on the scene, with lasers!\n",
      "\n",
      "Laser Headlights?!\n",
      "BWM’s prototype laser headlight assemblies undergoing testing.\n",
      "The first image brought to mind by the phrase “laser headlights” is that of laser beams firing out the front of an automobile. Obviously, coherent beams of monochromatic light would make for poor illumination outside of a very specific spot quite some distance away. Thankfully for our eyes, laser headlights don’t work in this way at all.\n",
      "Instead, laser headlights consist of one or more solid state laser diodes mounted inside the headlight. These blue lasers are fired at a yellow phosphor, similar to that used in white LEDs. This produces a powerful, vibrant white light that can then be bounced off reflectors and out of the headlights towards the road. Laser headlights built in this way have several benefits. They’re more energy efficient than LEDs that put out the same amount of light, while also being more space efficient, too.\n",
      "BWM’s futuristic i8 was one of the first vehicles to ship with laser headlight technology.\n",
      "Laser headlights are still a nascent technology, thus far only appearing in a few BMW, Audi, and other select vehicles. BMW’s technology was developed in partnership with lighting experts OSRAM. In practice, a regular LED low-beam lamp is used, with the laser used to create an incredibly bright and focused spot, used for high-beams. This can provide illumination out to 600 meters ahead of the vehicle, double that of conventional LED high beams. The lights use indium gallium nitride diode lasers that were originally used in projectors, with power levels above 1 watt. One of the challenges in implementing such technology in an automotive environment is the need for it to operate at temperature extremes. While research lasers and laser pointers may primarily be used at typical room temperatures, automotive headlights must be able to withstand everything from 40 degrees below zero up to 50 degrees C. Thankfully, the laser’s high efficiency means it doesn’t have huge heat output of its own to further complicate things. Other engineering challenges involve tailoring the optics package for the rough-and-tumble, high vibration environment found in the automotive application. It’s also important to ensure, as with any such device, that the end user can’t be exposed to harmful laser radiation in the event of accident or malfunction.\n",
      "Tearing Down the Laser Headlight\n",
      "A marketing image showing the construction of an aftermarket LED/laser headlight. We’d take the laser power with a grain of salt — it’s difficult to imagine a 10 W laser shining directly on some small LEDs without melting a hole through the board in short order.\n",
      "An aftermarket has sprung up too, with delightfully innovative designs. Combined laser/LED headlights are readily available on Alibaba, designed as a drop in replacement for projector lamps on existing vehicles. These often use an LED low-beam, and a combined LED/laser high beam, where the laser diode shoots directly at the LED phosphor to excite it further, rather than using its own. These units often also come with fan cooling to keep the laser and LEDs below their maximum operational temperature. Such developments are exciting, though it’s important to be wary of the performance of unknown aftermarket headlights. Many aftermarket LED headlight “upgrades” fail to pass muster when it comes to real-world performance, and there’s no reason to believe hybrid LED/laser designs will be any different. We’d love to pass a selection of these parts through a full IIHS test protocol, but that’s sadly beyond the scope (and budget!) of this article.\n",
      "However, [mikeselectricstuff] has happened to lay his hands on both the BMW and aftermarket parts, tearing them all down in his workshop to see what makes them tick. The differences are multitude when laid bare on the bench. The AliExpress part is relatively simple, wired up no differently from a regular headlight. Interestingly, however, the laser high-beam circuit runs all the time in these parts. To prevent blinding other road users, a shutter is kept in place to block the light, which is moved out of the way with a solenoid when the driver turns on the high beam switch.\n",
      "Where the aftermarket part is a little out of left field, the BMW design is another thing entirely. The cutting-edge headlights are hooked up with multiple connectors and over 30 conductors, with much of the driver electronics living in an external controller. Much of this is to drive the various LEDs and stepper motors for slewing the headlights when steering. However, the laser assembly brings its own complexities. Twin light sensors are built inside to monitor the laser beam, and a special metal blocking arm sits directly in front of the diode, presumably to stop the laser light leaving the headlight in the event the phosphor coating burns through. It’s truly wild to get a look inside a modern luxury car’s headlight and see just how far we’ve come from the old days of simple sealed beams.\n",
      "Cost Versus Performance\n",
      "Despite the efficiency gains available, the technology remains expensive. Powerful laser diodes don’t come cheap, after all. However, as the technology trickles down to lower-end models, it’s likely that we could see economies of scale change that for the better. Indeed, if national authorities begin to demand higher performance headlights as standard, we could see laser headlights become the norm, rather than an expensive luxury. The technology could naturally be applied to home and commercial lighting, too — though we suspect the potential gains are limited enough that LED lighting will remain the norm for some time to come.\n",
      "The high light output of laser headlights in a compact package allows engineers greater freedom when designing the front-end of a car.\n",
      "As it currently stands, much of the appeal of the new technology is about the packaging benefits, which allow automotive designers greater freedom around the headlight area. Such concerns are less of a factor when it comes to light fittings in the home or office, or indeed, on lower-end automobiles. Regardless, it’s an exciting new application for lasers and one we’ll be sure to see more of in the future.\n",
      " \n",
      "\n",
      "\n",
      "\n",
      "\n",
      " \n",
      "\n",
      "\n",
      "\n",
      "\n",
      "\n",
      "\n",
      "\n",
      "\n",
      "\n",
      "\n",
      "\n",
      "\n",
      "\n",
      "\n",
      "\n",
      "\n",
      "\n",
      "\n",
      "\n",
      "Posted in car hacks, Engineering, Featured, Laser Hacks, SliderTagged laser, laser headlight, laser headlights, light \n",
      "\n"
     ]
    }
   ],
   "source": [
    "# Load HTML article from .pkl file\n",
    "with open(\"laser_article_html.pkl\", \"rb\") as file:\n",
    "    html_article = pickle.load(file)\n",
    "\n",
    "# Parse HTML with BeautifulSoup\n",
    "soup = BeautifulSoup(html_article, \"html.parser\")\n",
    "\n",
    "# Making sure soup ONLY finds the article\n",
    "article = soup.find('article')\n",
    "\n",
    "# Print and Extract contents of the article\n",
    "Text = article.get_text()\n",
    "print(Text)"
   ]
  },
  {
   "cell_type": "markdown",
   "metadata": {},
   "source": [
    "Question 3"
   ]
  },
  {
   "cell_type": "markdown",
   "metadata": {},
   "source": [
    "Load the article text into a trained spaCy pipeline, and determine the 5 most frequent tokens (converted to lower case). Print the common tokens with an appropriate label. Additionally, print the tokens their frequencies (with appropriate labels). Make sure to remove things we don't care about (punctuation, stopwords, whitespace)."
   ]
  },
  {
   "cell_type": "code",
   "execution_count": 13,
   "metadata": {},
   "outputs": [
    {
     "name": "stdout",
     "output_type": "stream",
     "text": [
      "Top 5 Most Frequent Tokens:\n",
      "Token: laser, Frequency: 29\n",
      "Token: headlights, Frequency: 17\n",
      "Token: technology, Frequency: 10\n",
      "Token: headlight, Frequency: 10\n",
      "Token: LED, Frequency: 10\n"
     ]
    }
   ],
   "source": [
    "# Import Packages\n",
    "import spacy\n",
    "from collections import Counter\n",
    "\n",
    "# Load spaCy model\n",
    "nlp = spacy.load(\"en_core_web_sm\")\n",
    "\n",
    "# Process the article text\n",
    "doc = nlp(Text)\n",
    "\n",
    "# Filter out tokens that are not needed\n",
    "tokens = [token.text for token in doc if not token.is_punct and not token.is_stop and not token.is_space]\n",
    "\n",
    "# Count frequencies of tokens\n",
    "token_counts = Counter(tokens)\n",
    "\n",
    "# Determine 5 most frequent tokens\n",
    "most_frequent_tokens = token_counts.most_common(5)\n",
    "\n",
    "# Print results\n",
    "print(\"Top 5 Most Frequent Tokens:\")\n",
    "for token, freq in most_frequent_tokens:\n",
    "    print(f\"Token: {token}, Frequency: {freq}\")"
   ]
  },
  {
   "cell_type": "markdown",
   "metadata": {},
   "source": [
    "Question 4"
   ]
  },
  {
   "cell_type": "markdown",
   "metadata": {},
   "source": [
    "## Getting some workable material\n",
    "\n",
    "Let's start with an article and find learn some information about it.  Our first step should be to obtain our web page."
   ]
  },
  {
   "cell_type": "markdown",
   "metadata": {},
   "source": [
    "Load the article text into a trained spaCy pipeline, and determine the 5 most frequent lemmas (converted to lower case). Print the common lemmas with an appropriate label. Additionally, print the lemmas with their frequencies (with appropriate labels). Make sure to remove things we don't care about (punctuation, stopwords, whitespace)."
   ]
  },
  {
   "cell_type": "code",
   "execution_count": 15,
   "metadata": {},
   "outputs": [
    {
     "name": "stdout",
     "output_type": "stream",
     "text": [
      "Top 5 Most Frequent Lemmas:\n",
      "Lemma: laser, Frequency: 34\n",
      "Lemma: headlight, Frequency: 27\n",
      "Lemma: beam, Frequency: 12\n",
      "Lemma: technology, Frequency: 10\n",
      "Lemma: light, Frequency: 10\n"
     ]
    }
   ],
   "source": [
    "# Filter out lemmas that are not needed\n",
    "lemmas = [token.lemma_ for token in doc if not token.is_punct and not token.is_stop and not token.is_space]\n",
    "\n",
    "# Count frequencies of lemmas\n",
    "lemma_counts = Counter(lemmas)\n",
    "\n",
    "# Determine 5 most frequent lemmas\n",
    "most_frequent_lemmas = lemma_counts.most_common(5)\n",
    "\n",
    "# Print results\n",
    "print(\"Top 5 Most Frequent Lemmas:\")\n",
    "for lemma, freq in most_frequent_lemmas:\n",
    "    print(f\"Lemma: {lemma}, Frequency: {freq}\")"
   ]
  },
  {
   "cell_type": "markdown",
   "metadata": {},
   "source": [
    "Question 5"
   ]
  },
  {
   "cell_type": "markdown",
   "metadata": {},
   "source": [
    "Define the following methods: * score_sentence_by_token(sentence, interesting_token) that takes a sentence and a list of interesting token and returns the number of times that any of the interesting words appear in the sentence divided by the number of words in the sentence * score_sentence_by_lemma(sentence, interesting_lemmas) that takes a sentence and a list of interesting lemmas and returns the number of times that any of the interesting lemmas appear in the sentence divided by the number of words in the sentence"
   ]
  },
  {
   "cell_type": "markdown",
   "metadata": {},
   "source": [
    "You may find some of the code from the in class notes useful; feel free to use methods (rewrite them in this cell as well). Test them by showing the score of the first sentence in your article using the frequent tokens and frequent lemmas identified in question 3"
   ]
  },
  {
   "cell_type": "code",
   "execution_count": 16,
   "metadata": {},
   "outputs": [
    {
     "name": "stdout",
     "output_type": "stream",
     "text": [
      "Token score for the first sentence: 0.2\n",
      "Lemma score for the first sentence: 0.1\n"
     ]
    }
   ],
   "source": [
    "# Define scoring by token\n",
    "def score_sentence_by_token(sentence, interesting_tokens):\n",
    "     \n",
    "     #Tokenize the sentence\n",
    "     doc = nlp(sentence.lower())   \n",
    "     tokens = [token.text for token in doc if not token.is_punct and not token.is_stop and not token.is_space]\n",
    "     \n",
    "     # Count the number of interesting tokens\n",
    "     interesting_count = sum((1 for token in tokens if token in interesting_tokens))\n",
    "\n",
    "     # Calculate the score\n",
    "     score = interesting_count / len(tokens) if tokens else 0\n",
    "     return score\n",
    "\n",
    "# Define scoring by token\n",
    "def score_sentence_by_lemma(sentence, interesting_lemmas):\n",
    "\n",
    "    #Tokenize the sentence\n",
    "    doc = nlp(sentence.lower())\n",
    "    lemmas = [token.lemma_ for token in doc if not token.is_punct and not token.is_stop and not token.is_space]\n",
    "\n",
    "    # Count the number of interesting lemmas\n",
    "    interesting_count = sum((1 for lemma in lemmas if lemma in interesting_lemmas))\n",
    "    \n",
    "    # Calculate the score\n",
    "    score = interesting_count / len(lemmas) if lemmas else 0\n",
    "    return score\n",
    "\n",
    "# Test the function with the first sentence of the article\n",
    "first_sentence = list(doc.sents)[0].text\n",
    "\n",
    "# Identify interesting tokens and lemmas from earlier\n",
    "interesting_tokens = [\"laser\", \"headlights\", \"technology\", \"headlight\", \"LED\"]  # From Question 3\n",
    "interesting_lemmas = [\"automotive\", \"power\", \"beam\", \"technology\", \"light\"]  # From Question 4 modified a little\n",
    "\n",
    "# Calculate the scores\n",
    "token_score = score_sentence_by_token(first_sentence, interesting_tokens)\n",
    "lemma_score = score_sentence_by_lemma(first_sentence, interesting_lemmas)\n",
    "\n",
    "# Print results\n",
    "print(f\"Token score for the first sentence: {token_score:}\")\n",
    "print(f\"Lemma score for the first sentence: {lemma_score:}\")"
   ]
  },
  {
   "cell_type": "markdown",
   "metadata": {},
   "source": [
    "Question 6"
   ]
  },
  {
   "cell_type": "markdown",
   "metadata": {},
   "source": [
    "Make a list containing the scores (using tokens) of every sentence in the article, and plot a histogram with appropriate titles and axis labels of the scores. From your histogram, what seems to be the most common range of scores (put the answer in a comment after your code)?"
   ]
  },
  {
   "cell_type": "code",
   "execution_count": 22,
   "metadata": {},
   "outputs": [
    {
     "data": {
      "image/png": "[encoded data removed]",
      "text/plain": [
       "<Figure size 640x480 with 1 Axes>"
      ]
     },
     "metadata": {},
     "output_type": "display_data"
    }
   ],
   "source": [
    "# Load spaCy model\n",
    "nlp = spacy.load(\"en_core_web_sm\")\n",
    "\n",
    "# Process the article text\n",
    "doc = nlp(Text)\n",
    "sentences = [sent.text.strip() for sent in doc.sents]\n",
    "\n",
    "sentence_scores = [score_sentence_by_token(sentence.text, interesting_tokens) for sentence in doc.sents]\n",
    "\n",
    "# Plot histogram\n",
    "plt.hist(sentence_scores, bins=20, color='blue', edgecolor='black', alpha=0.7)\n",
    "plt.title('Histogram of Sentence Scores Using Tokens')\n",
    "plt.xlabel('Sentence Score', fontsize=12)\n",
    "plt.ylabel('Frequency', fontsize=12)\n",
    "plt.show()\n",
    "\n",
    "# The most common range of scores based on the historgram below are between 0.0 and 0.2"
   ]
  },
  {
   "cell_type": "markdown",
   "metadata": {},
   "source": [
    "Question 7"
   ]
  },
  {
   "cell_type": "markdown",
   "metadata": {},
   "source": [
    "Make a list containing the scores (using lemmas) of every sentence in the article, and plot a histogram with appropriate titles and axis labels of the scores. From your histogram, what seems to be the most common range of scores (put the answer in a comment after your code)?"
   ]
  },
  {
   "cell_type": "code",
   "execution_count": 23,
   "metadata": {},
   "outputs": [
    {
     "data": {
      "image/png": "[encoded data removed]",
      "text/plain": [
       "<Figure size 640x480 with 1 Axes>"
      ]
     },
     "metadata": {},
     "output_type": "display_data"
    }
   ],
   "source": [
    "# Load spaCy model\n",
    "nlp = spacy.load(\"en_core_web_sm\")\n",
    "\n",
    "# Process the article text\n",
    "doc = nlp(Text)\n",
    "sentences = [sent.text.strip() for sent in doc.sents]\n",
    "\n",
    "sentence_scores = [score_sentence_by_lemma(sentence.text, interesting_lemmas) for sentence in doc.sents]\n",
    "\n",
    "# Plot histogram\n",
    "plt.hist(sentence_scores, bins=20, color='blue', edgecolor='black', alpha=0.7)\n",
    "plt.title('Histogram of Sentence Scores Using Lemmas')\n",
    "plt.xlabel('Sentence Score', fontsize=12)\n",
    "plt.ylabel('Frequency', fontsize=12)\n",
    "plt.show()\n",
    "\n",
    "# The most common range of scores based on the historgram below are between 0.0 and 0.05"
   ]
  },
  {
   "cell_type": "markdown",
   "metadata": {},
   "source": [
    "Question 8"
   ]
  },
  {
   "cell_type": "markdown",
   "metadata": {},
   "source": [
    "Which tokens and lexems would be ommitted from the lists generated in questions 3 and 4 if we only wanted to consider nouns as interesting words? How might we change the code to only consider nouns? Put your answer in this Markdown cell (you can edit it by double clicking it)."
   ]
  },
  {
   "cell_type": "markdown",
   "metadata": {},
   "source": [
    "Tokens and Lemmas that are not nouns such as verbs and adjectives would be ommited from the lists generated in questions 3 and 4 if we only want to consider nouns as interesting words.\n"
   ]
  },
  {
   "cell_type": "markdown",
   "metadata": {},
   "source": [
    "In order to only consider nouns as interesting words the code can be modified using spaCy to filter for nouns using POS tagging. I've modified the code below to filter for nouns only as interesting words using POS tagging."
   ]
  },
  {
   "cell_type": "code",
   "execution_count": 25,
   "metadata": {},
   "outputs": [
    {
     "name": "stdout",
     "output_type": "stream",
     "text": [
      "Top 5 Most Frequent Noun Tokens:\n",
      "Noun: laser, Frequency: 29\n",
      "Noun: headlights, Frequency: 17\n",
      "Noun: technology, Frequency: 10\n",
      "Noun: headlight, Frequency: 9\n",
      "Noun: beam, Frequency: 7\n"
     ]
    }
   ],
   "source": [
    "# Filter out tokens that are not nouns\n",
    "nouns = [token.text for token in doc if token.pos_ == \"NOUN\" and not token.is_punct and not token.is_stop and not token.is_space]\n",
    "\n",
    "# Count frequencies of nouns\n",
    "noun_counts = Counter(nouns)\n",
    "\n",
    "# Determine 5 most frequent noun tokens\n",
    "most_frequent_nouns = noun_counts.most_common(5)\n",
    "\n",
    "# Print results\n",
    "print(\"Top 5 Most Frequent Noun Tokens:\")\n",
    "for noun, freq in most_frequent_nouns:\n",
    "    print(f\"Noun: {noun}, Frequency: {freq}\")"
   ]
  },
  {
   "cell_type": "code",
   "execution_count": 26,
   "metadata": {},
   "outputs": [
    {
     "name": "stdout",
     "output_type": "stream",
     "text": [
      "Top 5 Most Frequent Noun Lemmas:\n",
      "Lemma: laser, Frequency: 34\n",
      "Lemma: headlight, Frequency: 26\n",
      "Lemma: beam, Frequency: 12\n",
      "Lemma: technology, Frequency: 10\n",
      "Lemma: led, Frequency: 8\n"
     ]
    }
   ],
   "source": [
    "# Filter out lemmas that are not nouns\n",
    "lemmas = [token.lemma_ for token in doc if token.pos_ == \"NOUN\" and not token.is_punct and not token.is_stop and not token.is_space]\n",
    "\n",
    "# Count frequencies of nouns\n",
    "lemma_counts = Counter(lemmas)\n",
    "\n",
    "# Determine 5 most frequent noun lemmas\n",
    "most_frequent_lemmas = lemma_counts.most_common(5)\n",
    "\n",
    "# Print results\n",
    "print(\"Top 5 Most Frequent Noun Lemmas:\")\n",
    "for lemma, freq in most_frequent_lemmas:\n",
    "    print(f\"Lemma: {lemma}, Frequency: {freq}\")"
   ]
  },
  {
   "cell_type": "markdown",
   "metadata": {},
   "source": [
    "Convert to HTML"
   ]
  },
  {
   "cell_type": "code",
   "execution_count": 28,
   "metadata": {},
   "outputs": [
    {
     "name": "stderr",
     "output_type": "stream",
     "text": [
      "[NbConvertApp] Converting notebook web_scraping.ipynb to html\n",
      "[NbConvertApp] WARNING | Alternative text is missing on 2 image(s).\n",
      "[NbConvertApp] Writing 410206 bytes to web_scraping.html\n"
     ]
    }
   ],
   "source": [
    "!jupyter nbconvert --to html web_scraping.ipynb"
   ]
  }
 ],
 "metadata": {
  "kernelspec": {
   "display_name": "myenv",
   "language": "python",
   "name": "python3"
  },
  "language_info": {
   "codemirror_mode": {
    "name": "ipython",
    "version": 3
   },
   "file_extension": ".py",
   "mimetype": "text/x-python",
   "name": "python",
   "nbconvert_exporter": "python",
   "pygments_lexer": "ipython3",
   "version": "3.12.7"
  }
 },
 "nbformat": 4,
 "nbformat_minor": 4
}
